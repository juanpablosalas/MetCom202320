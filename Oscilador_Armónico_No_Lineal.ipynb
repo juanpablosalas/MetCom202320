{
  "nbformat": 4,
  "nbformat_minor": 0,
  "metadata": {
    "colab": {
      "provenance": []
    },
    "kernelspec": {
      "name": "python3",
      "display_name": "Python 3"
    },
    "language_info": {
      "name": "python"
    }
  },
  "cells": [
    {
      "cell_type": "markdown",
      "source": [
        "# **Oscilador Armónico No Lineal**\n",
        "Considere un oscilador armónico no lineal; e.g., una masa sujeta a un resorte cuya fuerza de restauración no es lineal. Usando este ejemplo como motivación, explique un método Runge-Kutta de orden dos de su preferencia para la integración de ecuaciones diferenciales lineales. Usted tiene la libertad de escoger la forma funcional exacta que prefiera para la fuerza de restitución, siempre y cuando esta sea no lineal. Suponga que los estudiantes saben Python 3 y su librería estándar. Sin embargo, aclare al principio del notebook cuáles\n",
        "conocimientos previos deben tener los estudiantes (por ejemplo, diagonalización, integrales, transformada de Fourier, etc.) para entender los métodos numéricos. Establezca una solución completa y con interpretación física al final de su explicación. En la construcción de su solución puede usar las librerías numpy y scipy teniendo en cuenta que debe explicar su selección de funciones y cómo se relacionan con los métodos explicados.\n",
        "\n",
        "\n",
        "---\n",
        "\n",
        "\n"
      ],
      "metadata": {
        "id": "VR_1HcWEeFL7"
      }
    },
    {
      "cell_type": "markdown",
      "source": [
        "Suponga que tiene un oscilador armónico no lineal, es decir, una masa sujeta a un resorte cuya fuerza de restauración no obedece la ley de Hooke (donde la fuerza es proporcional a su elongación) sino una fuerza dada por:\n",
        "$$F(x) = \\alpha x^4 + \\beta x^2 + \\gamma x $$\n",
        "con $\\alpha, \\beta, \\gamma$ en las unidades SI correspondientes.\n",
        "\n",
        "Grafique el movimiento de una partícula de masa $m=7.5kg$ que parte desde el reposo en $x(0)=1m$ atada a un resorte con parámetros $\\alpha=1.34, \\beta=-0.16, \\gamma = 7.45$"
      ],
      "metadata": {
        "id": "kZ9T5mQWfDVx"
      }
    },
    {
      "cell_type": "markdown",
      "source": [
        "## Solución\n",
        "\n",
        "Por la segunda ley de Newton, tenemos\n",
        "\n",
        "$$\\sum F = ma$$\n",
        "$$F(x) = m\\frac{d^2x}{dt^2}$$\n",
        "$$\\frac{d^2x}{dt^2} = \\frac{\\alpha}{m}x^4+\\frac{\\beta}{m}x^2+\\frac{\\gamma}{m}x$$\n",
        "\n"
      ],
      "metadata": {
        "id": "JKa7yqI8fy4q"
      }
    },
    {
      "cell_type": "markdown",
      "source": [
        "En este caso, tenemos una ecuación diferencial de segundo orden la cual podemos transformar a un sistema de ecuaciones de primer orden utilizando la velocidad pues $v=\\frac{dx}{dt}, así\n",
        "\n",
        "$$x' = v$$\n",
        "$$v' =  \\frac{\\alpha}{m}x^4+\\frac{\\beta}{m}x^2+\\frac{\\gamma}{m}x$$\n",
        "con $x(0)=1m$ y $v(0)=0m$. Ahora podemos aplicar un metódo de Runge Kutta de orden dos a estas dos ecuaciones simultáneamente para resolverlas."
      ],
      "metadata": {
        "id": "nIxMLL-fiY8r"
      }
    },
    {
      "cell_type": "markdown",
      "source": [
        "Para la primera ecuación tenemos\n",
        "\n",
        "$$k_1 = hv(x_0,t_0,v_0)$$\n",
        "$$k_2 = hv(x_0+h/2,t_0+k_1/2,v_0+l_1/2)$$\n",
        "\n",
        "Para la segunda ecuación tenemos\n",
        "\n",
        "$$l_1 = hF(x_0,t_0,v_0)/m$$\n",
        "$$l_2 = hF(x_0+h/2,t_0+k1/2,v_0+l_1/2)/m$$\n",
        "\n",
        "y la solución estará dada por\n",
        "\n",
        "$$x_n = x_0 + k_2$$"
      ],
      "metadata": {
        "id": "2_h1tRukkVGM"
      }
    },
    {
      "cell_type": "code",
      "execution_count": null,
      "metadata": {
        "id": "EEYd2FbJd2Im"
      },
      "outputs": [],
      "source": []
    }
  ]
}