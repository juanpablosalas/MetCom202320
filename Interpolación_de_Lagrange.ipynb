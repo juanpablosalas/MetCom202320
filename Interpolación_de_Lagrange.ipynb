{
  "nbformat": 4,
  "nbformat_minor": 0,
  "metadata": {
    "colab": {
      "provenance": []
    },
    "kernelspec": {
      "name": "python3",
      "display_name": "Python 3"
    },
    "language_info": {
      "name": "python"
    }
  },
  "cells": [
    {
      "cell_type": "markdown",
      "source": [
        "# **Interpolación de Lagrange**\n",
        "\n",
        "Explique el método de interpolación de Lagrange y, con ejemplos, por qué es útil en ciencias básicas e ingeniería. Las aplicaciones pueden ser fundamentales o prácticas. Asuma que los estudiantes saben usar numpy y matplotlib, pero no scipy, y que además ya vieron cursos básicos de matemáticas. Para ilustrar los conceptos, proponga algún problema sencillo de su\n",
        "preferencia y resuélvalo numéricamente usando librerías de interpolación de scipy. El sistema debe ser bien comportado y ejemplificar alguna aplicación, así sea menor, en matemáticas, ciencia o ingeniería. Finalmente, explique bajo cuáles circunstancias falla este método de interpolación y cómo puede ser mejorado (aquí puede discutir otros métodos de interpolación más avanzados).\n",
        "\n",
        "\n",
        "---\n",
        "\n",
        "\n",
        "\n",
        "---\n",
        "\n"
      ],
      "metadata": {
        "id": "6ay7VznvKoG8"
      }
    },
    {
      "cell_type": "markdown",
      "source": [
        "El objetivo de este notebook es explicar el metódo de interpolación de Lagrange.\n",
        "\n",
        "**Contenido**\n",
        "\n",
        "1. Explicación teórica\n",
        "2. Aplicación en Python\n",
        "3. *Ejemplo:* Movimiento con aceleración no lineal\n",
        "5. Conclusión: bajo qué circunstancias falla y como puede ser mejorado\n",
        "\n"
      ],
      "metadata": {
        "id": "kkOPiv7uK8L-"
      }
    },
    {
      "cell_type": "markdown",
      "source": [
        "## 1. Fundamentación teórica\n",
        "\n",
        "En muchas situaciones de física e ingeniería tenemos un conjunto de datos pero queremos encontrar una interpolación de los mismos, es decir, una relación matemática que estime los datos intermedios que no conocemos. Para esto, aparecen las técnicas de interpolación entre las cuales se encuentra la *interpolación de Lagrange*, la cual tiene ventajas computacionales muy importantes pues pertenece a la categoría de interpolación polinómica."
      ],
      "metadata": {
        "id": "hbUmXE5rMNDl"
      }
    },
    {
      "cell_type": "markdown",
      "source": [
        "Se parte de un conjunto de datos con $n$ pares diferentes $(x_i,y_i)$ que se utilizarán para interpolar un polinomio cuyo grado será a lo sumo $n-1$. Para definir el polinomio de Lagrange se debe primero definir la base de Lagrange de dimensión $n$ donde cada elemento estará dado por:\n",
        "\n",
        "$$l_k(x) = \\frac{x-x_1}{x_k-x_1} ... \\frac{x-x_n}{x_k-x_n} = \\prod_{1\\leq j \\leq n \\\\ j \\neq k} \\frac{x-x_j}{x_k-x_j}$$\n",
        "\n",
        "Así, el polinomio de Lagrange es una combinación lineal de esta base cuyos coeficientes son los $y_i$,\n",
        "\n",
        "$$L(x) = \\sum_{i=1}^{n}y_il_i(x)$$"
      ],
      "metadata": {
        "id": "lvgrvl1YOwzZ"
      }
    },
    {
      "cell_type": "markdown",
      "source": [
        "## 2. Aplicación en Python\n",
        "\n",
        "Ahora veamos como podemos utilizar la interpolación de Lagrange utilizando la librería de SciPy. Primero, debemos importar la función utilizando `from scipy.interpolate import lagrange` así como las libreras de NumPy y Matplotlib."
      ],
      "metadata": {
        "id": "QNPhavwcRXeB"
      }
    },
    {
      "cell_type": "code",
      "execution_count": 20,
      "metadata": {
        "id": "CY8nm74NKe8I"
      },
      "outputs": [],
      "source": [
        "import numpy as np\n",
        "import matplotlib.pyplot as plt\n",
        "import seaborn as sns\n",
        "sns.set_style('darkgrid')"
      ]
    },
    {
      "cell_type": "code",
      "source": [
        "from scipy.interpolate import lagrange"
      ],
      "metadata": {
        "id": "V5ISzYAbKnVE"
      },
      "execution_count": 21,
      "outputs": []
    },
    {
      "cell_type": "markdown",
      "source": [
        "Definamos un conjunto de $n=4$ datos $(x_i,y_i)$"
      ],
      "metadata": {
        "id": "NrK12AiATJBc"
      }
    },
    {
      "cell_type": "code",
      "source": [
        "x = np.array([-0.7,-1.7,1.3,2.5])\n",
        "y = np.array([0.78, -0.13, 0.26, -0.89])"
      ],
      "metadata": {
        "id": "uWB0Kd7DTHuL"
      },
      "execution_count": 22,
      "outputs": []
    },
    {
      "cell_type": "markdown",
      "source": [
        "Con la librería, calculamos la función o polinomio interpolado"
      ],
      "metadata": {
        "id": "vWMBkFdkUCdM"
      }
    },
    {
      "cell_type": "code",
      "source": [
        "lagrange_polynomial = lagrange(x,y)"
      ],
      "metadata": {
        "id": "yY5edHFTUBqb"
      },
      "execution_count": 23,
      "outputs": []
    },
    {
      "cell_type": "markdown",
      "source": [
        "Podemos ver que este polinomio tiene 4 coeficientes, es decir es de grado 3 como se esperaba. Estos coeficientes están dados por:"
      ],
      "metadata": {
        "id": "5CRuLuL4Ulcb"
      }
    },
    {
      "cell_type": "code",
      "source": [
        "lagrange_polynomial.coef"
      ],
      "metadata": {
        "colab": {
          "base_uri": "https://localhost:8080/"
        },
        "id": "R_oCqFsTUJmr",
        "outputId": "97263981-b837-4f43-f62a-668cb85dbd34"
      },
      "execution_count": 24,
      "outputs": [
        {
          "output_type": "execute_result",
          "data": {
            "text/plain": [
              "array([ 0.04089782, -0.3450124 , -0.10493279,  0.88963108])"
            ]
          },
          "metadata": {},
          "execution_count": 24
        }
      ]
    },
    {
      "cell_type": "markdown",
      "source": [
        "También podemos visualizar el resultado de nuestra interpolación"
      ],
      "metadata": {
        "id": "Geq6hOgRUu5j"
      }
    },
    {
      "cell_type": "code",
      "source": [
        "t = np.linspace(min(x),max(x))\n",
        "f = lagrange_polynomial(t)\n",
        "\n",
        "fig,ax = plt.subplots()\n",
        "ax.plot(t,f,c='tab:red',label='Polinomio de Lagrange')\n",
        "ax.scatter(x,y,marker='d',c='tab:purple', label='Datos')\n",
        "ax.legend()\n",
        "ax.set_xlabel('x')\n",
        "ax.set_ylabel('y')\n",
        "ax.set_title(r'Interpolación de Lagrane con $n=4$ puntos')\n",
        "\n"
      ],
      "metadata": {
        "colab": {
          "base_uri": "https://localhost:8080/",
          "height": 493
        },
        "id": "_pvTQZ23UMNr",
        "outputId": "e9924b90-54dd-4168-812a-4743c4531a56"
      },
      "execution_count": 35,
      "outputs": [
        {
          "output_type": "execute_result",
          "data": {
            "text/plain": [
              "Text(0.5, 1.0, 'Interpolación de Lagrane con $n=4$ puntos')"
            ]
          },
          "metadata": {},
          "execution_count": 35
        },
        {
          "output_type": "display_data",
          "data": {
            "text/plain": [
              "<Figure size 640x480 with 1 Axes>"
            ],
            "image/png": "[encoded data removed]"
          },
          "metadata": {}
        }
      ]
    },
    {
      "cell_type": "markdown",
      "source": [
        "## 3. Ejemplo: Aceleración no lineal\n",
        "\n",
        "Ahora veamos un ejemplo de aplicación de interpolación de Lagrange a la cinemática en una dimensión."
      ],
      "metadata": {
        "id": "THeGAS4FYLQl"
      }
    },
    {
      "cell_type": "markdown",
      "source": [
        "Suponga que en un laboratorio, se diseña una pista para que una pelota de masa $m=10kg$ pueda experimentar aceleraciones no lineales. En diferentes instantes de tiempo, se anota la posición de la pelota y los resultados están en las variables $t_{pelota},x_{pelota}$ a continuación. A partir de esa información encuentre:\n",
        "\n",
        "1. la velocidad inicial de la pelota\n",
        "2. la fuerza inicial que experimenta la pelota\n",
        "3. la aceleración de la pelota en $t=2.3s$ y en $t=3.5s$\n",
        "\n"
      ],
      "metadata": {
        "id": "RybNp_R7YP05"
      }
    },
    {
      "cell_type": "code",
      "source": [
        "t_pelota = np.array([0,1,2,3,4,5,6,7,8,9,10])\n",
        "x_pelota = np.array([-3.72,-4.56,-5.43,-4.12,-2.98,-1.45,-0.94,0.35,1.56,2.34,1.78])"
      ],
      "metadata": {
        "id": "skMhaQi6VFA9"
      },
      "execution_count": 38,
      "outputs": []
    },
    {
      "cell_type": "markdown",
      "source": [
        "Primero, encontramos la interpolación de Lagrange utilizando SciPy y sus coeficientes"
      ],
      "metadata": {
        "id": "P8PTWyMnZ_Uf"
      }
    },
    {
      "cell_type": "code",
      "source": [
        "lagrange_pelota = lagrange(t_pelota,x_pelota)"
      ],
      "metadata": {
        "id": "VCsaUucaZ9wQ"
      },
      "execution_count": 39,
      "outputs": []
    },
    {
      "cell_type": "code",
      "source": [
        "lagrange_pelota.coef"
      ],
      "metadata": {
        "colab": {
          "base_uri": "https://localhost:8080/"
        },
        "id": "5-liKQp4aOBg",
        "outputId": "7e874c41-494b-4be5-d9bd-985ff9ac1dda"
      },
      "execution_count": 40,
      "outputs": [
        {
          "output_type": "execute_result",
          "data": {
            "text/plain": [
              "array([-4.38960538e-05,  2.20878803e-03, -4.76736938e-02,  5.76958581e-01,\n",
              "       -4.29451834e+00,  2.02765964e+01, -6.03200295e+01,  1.07996474e+02,\n",
              "       -1.03617735e+02,  3.85877619e+01, -3.72000000e+00])"
            ]
          },
          "metadata": {},
          "execution_count": 40
        }
      ]
    },
    {
      "cell_type": "markdown",
      "source": [
        "Note que $-4.38960538\\times10^{-5}$ es el coeficiente del término $t^{10}$ en el polinomio."
      ],
      "metadata": {
        "id": "t_uMXToicMx5"
      }
    },
    {
      "cell_type": "markdown",
      "source": [
        "1. La velocidad inicial de la pelota puede ser encontrada evaluando la primera derivada de este polinomio en $t=0$ puesto que $v=\\frac{dx}{dt}$.\n",
        "\n",
        "Así pues, adicional a la interpolación de Lagrange podemos utilizar el paquete `polyder` de NumPy"
      ],
      "metadata": {
        "id": "-g8q9yhaamyg"
      }
    },
    {
      "cell_type": "code",
      "source": [
        "# Derivada de orden m=1 del polinomio de lagrange, note que para utilizar esta función debemos invertir los coeficientes\n",
        "velocidad_pelota = np.polyder(np.poly1d(lagrange_pelota.coef),m=1) \n",
        "velocidad_pelota"
      ],
      "metadata": {
        "colab": {
          "base_uri": "https://localhost:8080/"
        },
        "id": "MsPMcstaaSQA",
        "outputId": "bc2c2620-6bfb-49a6-e74a-da128339b2b7"
      },
      "execution_count": 49,
      "outputs": [
        {
          "output_type": "execute_result",
          "data": {
            "text/plain": [
              "poly1d([-4.38960538e-04,  1.98790923e-02, -3.81389550e-01,  4.03871007e+00,\n",
              "       -2.57671101e+01,  1.01382982e+02, -2.41280118e+02,  3.23989423e+02,\n",
              "       -2.07235469e+02,  3.85877619e+01])"
            ]
          },
          "metadata": {},
          "execution_count": 49
        }
      ]
    },
    {
      "cell_type": "code",
      "source": [
        "velocidad_pelota(0)"
      ],
      "metadata": {
        "colab": {
          "base_uri": "https://localhost:8080/"
        },
        "id": "r2V8lOWEbFvQ",
        "outputId": "8cbc4129-0c9a-4ca8-e5e8-153c0f76944f"
      },
      "execution_count": 50,
      "outputs": [
        {
          "output_type": "execute_result",
          "data": {
            "text/plain": [
              "38.58776190476193"
            ]
          },
          "metadata": {},
          "execution_count": 50
        }
      ]
    },
    {
      "cell_type": "markdown",
      "source": [
        "La pelota experimenta una velocidad inicial de $38.59m/s$."
      ],
      "metadata": {
        "id": "8EHJ5BUEddQo"
      }
    },
    {
      "cell_type": "markdown",
      "source": [
        "2. La fuerza inicial de la pelota está dada por la segunda derivada de su posición multiplicada por la masa puesto que \n",
        "$$F=ma = m\\frac{d^2x}{dt^2}$$"
      ],
      "metadata": {
        "id": "hgPrranrdGHK"
      }
    },
    {
      "cell_type": "code",
      "source": [
        "aceleracion_pelota = np.polyder(np.poly1d(lagrange_pelota.coef),m=2)\n",
        "aceleracion_pelota "
      ],
      "metadata": {
        "colab": {
          "base_uri": "https://localhost:8080/"
        },
        "id": "3MnHQdFrcl2x",
        "outputId": "4105b88a-0895-4011-a01b-5ac0b6b7dd5b"
      },
      "execution_count": 51,
      "outputs": [
        {
          "output_type": "execute_result",
          "data": {
            "text/plain": [
              "poly1d([-3.95064484e-03,  1.59032738e-01, -2.66972685e+00,  2.42322604e+01,\n",
              "       -1.28835550e+02,  4.05531927e+02, -7.23840354e+02,  6.47978846e+02,\n",
              "       -2.07235469e+02])"
            ]
          },
          "metadata": {},
          "execution_count": 51
        }
      ]
    },
    {
      "cell_type": "code",
      "source": [
        "m=10\n",
        "fuerza_pelota = m*aceleracion_pelota\n",
        "fuerza_pelota(0)"
      ],
      "metadata": {
        "colab": {
          "base_uri": "https://localhost:8080/"
        },
        "id": "kO07HgkudVhi",
        "outputId": "1d2c011f-1fcb-41bf-84dc-9a130a9bb9ce"
      },
      "execution_count": 52,
      "outputs": [
        {
          "output_type": "execute_result",
          "data": {
            "text/plain": [
              "-2072.354690476188"
            ]
          },
          "metadata": {},
          "execution_count": 52
        }
      ]
    },
    {
      "cell_type": "markdown",
      "source": [
        "La pelota experimenta una fuerza inicial de $-2072.35 N$"
      ],
      "metadata": {
        "id": "MDgalRvUdjOy"
      }
    },
    {
      "cell_type": "markdown",
      "source": [
        "3. La aceleración se puede evaluar en los tiempos pedidos usando"
      ],
      "metadata": {
        "id": "PSgXE-ujdojx"
      }
    },
    {
      "cell_type": "code",
      "source": [
        "aceleracion_pelota(2.3)"
      ],
      "metadata": {
        "colab": {
          "base_uri": "https://localhost:8080/"
        },
        "id": "9AUuAw_Sdb-B",
        "outputId": "4651e330-024c-4c8b-841e-c66ec0ca5ebf"
      },
      "execution_count": 54,
      "outputs": [
        {
          "output_type": "execute_result",
          "data": {
            "text/plain": [
              "-1.7294740320803896"
            ]
          },
          "metadata": {},
          "execution_count": 54
        }
      ]
    },
    {
      "cell_type": "code",
      "source": [
        "aceleracion_pelota(3.5)"
      ],
      "metadata": {
        "colab": {
          "base_uri": "https://localhost:8080/"
        },
        "id": "60a7d1N-dvnS",
        "outputId": "6c4be471-3154-4da2-801b-d3e9d93f0b53"
      },
      "execution_count": 55,
      "outputs": [
        {
          "output_type": "execute_result",
          "data": {
            "text/plain": [
              "1.25503166448064"
            ]
          },
          "metadata": {},
          "execution_count": 55
        }
      ]
    },
    {
      "cell_type": "code",
      "source": [],
      "metadata": {
        "id": "phAwcrvidylC"
      },
      "execution_count": null,
      "outputs": []
    }
  ]
}